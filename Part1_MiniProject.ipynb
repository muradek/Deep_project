{
 "cells": [
  {
   "cell_type": "markdown",
   "metadata": {},
   "source": [
    "$$\n",
    "\\newcommand{\\mat}[1]{\\boldsymbol {#1}}\n",
    "\\newcommand{\\mattr}[1]{\\boldsymbol {#1}^\\top}\n",
    "\\newcommand{\\matinv}[1]{\\boldsymbol {#1}^{-1}}\n",
    "\\newcommand{\\vec}[1]{\\boldsymbol {#1}}\n",
    "\\newcommand{\\vectr}[1]{\\boldsymbol {#1}^\\top}\n",
    "\\newcommand{\\rvar}[1]{\\mathrm {#1}}\n",
    "\\newcommand{\\rvec}[1]{\\boldsymbol{\\mathrm{#1}}}\n",
    "\\newcommand{\\diag}{\\mathop{\\mathrm {diag}}}\n",
    "\\newcommand{\\set}[1]{\\mathbb {#1}}\n",
    "\\newcommand{\\cset}[1]{\\mathcal{#1}}\n",
    "\\newcommand{\\norm}[1]{\\left\\lVert#1\\right\\rVert}\n",
    "\\newcommand{\\pderiv}[2]{\\frac{\\partial #1}{\\partial #2}}\n",
    "\\newcommand{\\bb}[1]{\\boldsymbol{#1}}\n",
    "\\newcommand{\\E}[2][]{\\mathbb{E}_{#1}\\left[#2\\right]}\n",
    "\\newcommand{\\ip}[3]{\\left<#1,#2\\right>_{#3}}\n",
    "\\newcommand{\\given}[]{\\,\\middle\\vert\\,}\n",
    "\\newcommand{\\DKL}[2]{\\cset{D}_{\\text{KL}}\\left(#1\\,\\Vert\\, #2\\right)}\n",
    "\\newcommand{\\grad}[]{\\nabla}\n",
    "$$\n",
    "\n",
    "# Part 1: Mini-Project\n",
    "<a id=part3></a>"
   ]
  },
  {
   "cell_type": "markdown",
   "metadata": {},
   "source": [
    "In this part you'll implement a small comparative-analysis project, heavily based on the materials from the tutorials and homework."
   ]
  },
  {
   "cell_type": "markdown",
   "metadata": {},
   "source": [
    "### Guidelines"
   ]
  },
  {
   "cell_type": "markdown",
   "metadata": {},
   "source": [
    "- You should implement the code which displays your results in this notebook, and add any additional code files for your implementation in the `project/` directory. You can import these files here, as we do for the homeworks.\n",
    "- Running this notebook should not perform any training - load your results from some output files and display them here. The notebook must be runnable from start to end without errors.\n",
    "- You must include a detailed write-up (in the notebook) of what you implemented and how. \n",
    "- Explain the structure of your code and how to run it to reproduce your results.\n",
    "- Explicitly state any external code you used, including built-in pytorch models and code from the course tutorials/homework.\n",
    "- Analyze your numerical results, explaining **why** you got these results (not just specifying the results).\n",
    "- Where relevant, place all results in a table or display them using a graph.\n",
    "- Before submitting, make sure all files which are required to run this notebook are included in the generated submission zip.\n",
    "- Try to keep the submission file size under 10MB. Do not include model checkpoint files, dataset files, or any other non-essentials files. Instead include your results as images/text files/pickles/etc, and load them for display in this notebook. "
   ]
  },
  {
   "cell_type": "markdown",
   "metadata": {},
   "source": [
    "## Object detection on TACO dataset"
   ]
  },
  {
   "cell_type": "markdown",
   "metadata": {},
   "source": [
    "TACO is a growing image dataset of waste in the wild. It contains images of litter taken under diverse environments: woods, roads and beaches.\n",
    "\n",
    "<center><img src=\"imgs/taco.png\" /></center>\n"
   ]
  },
  {
   "cell_type": "markdown",
   "metadata": {},
   "source": [
    "you can read more about the dataset here: https://github.com/pedropro/TACO\n",
    "\n",
    "and can explore the data distribution and how to load it from here: https://github.com/pedropro/TACO/blob/master/demo.ipynb\n",
    "\n",
    "\n",
    "The stable version of the dataset that contain 1500 images and 4787 annotations exist in `datasets/TACO-master`\n",
    "You do not need to download the dataset.\n"
   ]
  },
  {
   "cell_type": "markdown",
   "metadata": {},
   "source": [
    "### Project goals:\n",
    "\n",
    "* You need to perform Object Detection task, over 7 of the dataset.\n",
    "* The annotation for object detection can be downloaded from here: https://github.com/wimlds-trojmiasto/detect-waste/tree/main/annotations.\n",
    "* The data and annotation format is like the COCOAPI: https://github.com/cocodataset/cocoapi (you can find a notebook of how to perform evalutation using it here: https://github.com/cocodataset/cocoapi/blob/master/PythonAPI/pycocoEvalDemo.ipynb)\n",
    "(you need to install it..)\n",
    "* if you need a beginner guild for OD in COCOAPI, you can read and watch this link: https://www.neuralception.com/cocodatasetapi/ "
   ]
  },
  {
   "cell_type": "markdown",
   "metadata": {},
   "source": [
    "### What do i need to do?\n",
    "\n",
    "* **Everything is in the game!** as long as your model does not require more then 8 GB of memory and you follow the Guidelines above.\n",
    "\n",
    "\n",
    "### What does it mean?\n",
    "* you can use data augmentation, rather take what's implemented in the directory or use external libraries such as https://albumentations.ai/ (notice that when you create your own augmentations you need to change the annotation as well)\n",
    "* you can use more data if you find it useful (for examples, reviwew https://github.com/AgaMiko/waste-datasets-review)\n",
    "\n",
    "\n",
    "### What model can i use?\n",
    "* Whatever you want!\n",
    "you can review good models for the coco-OD task as a referance:\n",
    "SOTA: https://paperswithcode.com/sota/object-detection-on-coco\n",
    "Real-Time: https://paperswithcode.com/sota/real-time-object-detection-on-coco\n",
    "Or you can use older models like YOLO-V3 or Faster-RCNN\n",
    "* As long as you have a reason (complexity, speed, preformence), you are golden.\n",
    "\n",
    "### Tips for a good grade:\n",
    "* start as simple as possible. dealing with APIs are not the easiest for the first time and i predict that this would be your main issue. only when you have a running model that learn, you can add learning tricks.\n",
    "* use the visualization of a notebook, as we did over the course, check that your input actually fitting the model, the output is the desired size and so on.\n",
    "* It is recommanded to change the images to a fixed size, like shown in here :https://github.com/pedropro/TACO/blob/master/detector/inspect_data.ipynb\n",
    "* Please adress the architecture and your loss function/s in this notebook. if you decided to add some loss component like the Focal loss for instance, try to show the results before and after using it.\n",
    "* Plot your losses in this notebook, any evaluation metric can be shown as a function of time and possibe to analize per class.\n",
    "\n",
    "Good luck!"
   ]
  },
  {
   "cell_type": "markdown",
   "metadata": {},
   "source": [
    "## Implementation"
   ]
  },
  {
   "cell_type": "markdown",
   "metadata": {},
   "source": [
    "**TODO**: This is where you should write your explanations and implement the code to display the results.\n",
    "See guidelines about what to include in this section."
   ]
  },
  {
   "cell_type": "code",
   "execution_count": 5,
   "metadata": {
    "tags": []
   },
   "outputs": [],
   "source": [
    "from project.model import load_from_roboflow, set_model, pred"
   ]
  },
  {
   "cell_type": "code",
   "execution_count": 2,
   "metadata": {
    "collapsed": true,
    "jupyter": {
     "outputs_hidden": true
    },
    "tags": []
   },
   "outputs": [
    {
     "name": "stdout",
     "output_type": "stream",
     "text": [
      "started downloading dataset from roboflow\n",
      "loading Roboflow workspace...\n",
      "loading Roboflow project...\n",
      "Dependency ultralytics<=8.0.20 is required but found version=8.0.57, to fix: `pip install ultralytics<=8.0.20`\n",
      "Downloading Dataset Version Zip in TACO-train_test-1 to yolov8: 98% [157401088 / 160318048] bytes\n"
     ]
    },
    {
     "name": "stderr",
     "output_type": "stream",
     "text": [
      "Extracting Dataset Version Zip to TACO-train_test-1 in yolov8:: 100%|████████████████████████████████████████████████████████████| 3010/3010 [00:13<00:00, 230.35it/s]\n"
     ]
    },
    {
     "name": "stdout",
     "output_type": "stream",
     "text": [
      "finished downloading dataset from roboflow\n"
     ]
    }
   ],
   "source": [
    "dataset = load_from_roboflow()"
   ]
  },
  {
   "cell_type": "code",
   "execution_count": 3,
   "metadata": {
    "tags": []
   },
   "outputs": [
    {
     "name": "stdout",
     "output_type": "stream",
     "text": [
      "started settingyolov8l.pt\n"
     ]
    },
    {
     "name": "stderr",
     "output_type": "stream",
     "text": [
      "New https://pypi.org/project/ultralytics/8.0.58 available 😃 Update with 'pip install -U ultralytics'\n",
      "Ultralytics YOLOv8.0.57 🚀 Python-3.8.12 torch-1.10.1 CUDA:0 (NVIDIA GeForce RTX 2080 Ti, 11019MiB)\n",
      "\u001b[34m\u001b[1myolo/engine/trainer: \u001b[0mtask=detect, mode=train, model=yolov8l.pt, data=/home/muradek/Deep_project/TACO-train_test-1/data.yaml, epochs=25, patience=15, batch=2, imgsz=640, save=True, save_period=-1, cache=False, device=None, workers=8, project=None, name=None, exist_ok=False, pretrained=False, optimizer=SGD, verbose=True, seed=0, deterministic=True, single_cls=False, image_weights=False, rect=False, cos_lr=False, close_mosaic=10, resume=False, amp=True, overlap_mask=True, mask_ratio=4, dropout=0.0, val=True, split=val, save_json=False, save_hybrid=False, conf=None, iou=0.7, max_det=300, half=False, dnn=False, plots=True, source=None, show=False, save_txt=False, save_conf=False, save_crop=False, hide_labels=False, hide_conf=False, vid_stride=1, line_thickness=3, visualize=False, augment=False, agnostic_nms=False, classes=None, retina_masks=False, boxes=True, format=torchscript, keras=False, optimize=False, int8=False, dynamic=False, simplify=False, opset=None, workspace=4, nms=False, lr0=0.01, lrf=0.01, momentum=0.937, weight_decay=0.0005, warmup_epochs=3.0, warmup_momentum=0.8, warmup_bias_lr=0.1, box=7.5, cls=0.5, dfl=1.5, fl_gamma=0.0, label_smoothing=0.0, nbs=64, hsv_h=0.015, hsv_s=0.7, hsv_v=0.4, degrees=0.0, translate=0.1, scale=0.5, shear=0.0, perspective=0.0, flipud=0.0, fliplr=0.5, mosaic=1.0, mixup=0.0, copy_paste=0.0, cfg=None, v5loader=False, tracker=botsort.yaml, save_dir=runs/detect/train17\n",
      "Overriding model.yaml nc=80 with nc=7\n",
      "\n",
      "                   from  n    params  module                                       arguments                     \n",
      "  0                  -1  1      1856  ultralytics.nn.modules.Conv                  [3, 64, 3, 2]                 \n",
      "  1                  -1  1     73984  ultralytics.nn.modules.Conv                  [64, 128, 3, 2]               \n",
      "  2                  -1  3    279808  ultralytics.nn.modules.C2f                   [128, 128, 3, True]           \n",
      "  3                  -1  1    295424  ultralytics.nn.modules.Conv                  [128, 256, 3, 2]              \n",
      "  4                  -1  6   2101248  ultralytics.nn.modules.C2f                   [256, 256, 6, True]           \n",
      "  5                  -1  1   1180672  ultralytics.nn.modules.Conv                  [256, 512, 3, 2]              \n",
      "  6                  -1  6   8396800  ultralytics.nn.modules.C2f                   [512, 512, 6, True]           \n",
      "  7                  -1  1   2360320  ultralytics.nn.modules.Conv                  [512, 512, 3, 2]              \n",
      "  8                  -1  3   4461568  ultralytics.nn.modules.C2f                   [512, 512, 3, True]           \n",
      "  9                  -1  1    656896  ultralytics.nn.modules.SPPF                  [512, 512, 5]                 \n",
      " 10                  -1  1         0  torch.nn.modules.upsampling.Upsample         [None, 2, 'nearest']          \n",
      " 11             [-1, 6]  1         0  ultralytics.nn.modules.Concat                [1]                           \n",
      " 12                  -1  3   4723712  ultralytics.nn.modules.C2f                   [1024, 512, 3]                \n",
      " 13                  -1  1         0  torch.nn.modules.upsampling.Upsample         [None, 2, 'nearest']          \n",
      " 14             [-1, 4]  1         0  ultralytics.nn.modules.Concat                [1]                           \n",
      " 15                  -1  3   1247744  ultralytics.nn.modules.C2f                   [768, 256, 3]                 \n",
      " 16                  -1  1    590336  ultralytics.nn.modules.Conv                  [256, 256, 3, 2]              \n",
      " 17            [-1, 12]  1         0  ultralytics.nn.modules.Concat                [1]                           \n",
      " 18                  -1  3   4592640  ultralytics.nn.modules.C2f                   [768, 512, 3]                 \n",
      " 19                  -1  1   2360320  ultralytics.nn.modules.Conv                  [512, 512, 3, 2]              \n",
      " 20             [-1, 9]  1         0  ultralytics.nn.modules.Concat                [1]                           \n",
      " 21                  -1  3   4723712  ultralytics.nn.modules.C2f                   [1024, 512, 3]                \n",
      " 22        [15, 18, 21]  1   5588197  ultralytics.nn.modules.Detect                [7, [256, 512, 512]]          \n",
      "Model summary: 365 layers, 43635237 parameters, 43635221 gradients, 165.4 GFLOPs\n",
      "\n",
      "Transferred 589/595 items from pretrained weights\n",
      "\u001b[34m\u001b[1mAMP: \u001b[0mrunning Automatic Mixed Precision (AMP) checks with YOLOv8n...\n",
      "\u001b[34m\u001b[1mAMP: \u001b[0mchecks passed ✅\n",
      "\u001b[34m\u001b[1moptimizer:\u001b[0m SGD(lr=0.01) with parameter groups 97 weight(decay=0.0), 104 weight(decay=0.0005), 103 bias\n",
      "\u001b[34m\u001b[1mtrain: \u001b[0mScanning /home/muradek/Deep_project/TACO-train_test-1/train/labels.cache... 1049 images, 0 backgrounds, 0 corrupt: 100%|██████████| 1049/1049 [00:00<?, ?it/s]\u001b[0m\n",
      "\u001b[34m\u001b[1mval: \u001b[0mScanning /home/muradek/Deep_project/TACO-train_test-1/valid/labels.cache... 300 images, 0 backgrounds, 0 corrupt: 100%|██████████| 300/300 [00:00<?, ?it/s]\u001b[0m\n",
      "This DataLoader will create 4 worker processes in total. Our suggested max number of worker in current system is 2, which is smaller than what this DataLoader is going to create. Please be aware that excessive worker creation might get DataLoader running slow or even freeze, lower the worker number to avoid potential slowness/freeze if necessary.\n",
      "Plotting labels to runs/detect/train17/labels.jpg... \n",
      "Image sizes 640 train, 640 val\n",
      "Using 2 dataloader workers\n",
      "Logging results to \u001b[1mruns/detect/train17\u001b[0m\n",
      "Starting training for 25 epochs...\n",
      "\n",
      "      Epoch    GPU_mem   box_loss   cls_loss   dfl_loss  Instances       Size\n",
      "       1/25      1.98G      1.125      3.242      1.295          4        640: 100%|██████████| 525/525 [01:36<00:00,  5.41it/s]\n",
      "                 Class     Images  Instances      Box(P          R      mAP50  mAP50-95):   0%|          | 0/75 [00:00<?, ?it/s]This DataLoader will create 4 worker processes in total. Our suggested max number of worker in current system is 2, which is smaller than what this DataLoader is going to create. Please be aware that excessive worker creation might get DataLoader running slow or even freeze, lower the worker number to avoid potential slowness/freeze if necessary.\n",
      "                 Class     Images  Instances      Box(P          R      mAP50  mAP50-95): 100%|██████████| 75/75 [00:08<00:00,  8.71it/s]\n",
      "                   all        300       1011      0.316      0.148     0.0899     0.0687\n",
      "\n",
      "      Epoch    GPU_mem   box_loss   cls_loss   dfl_loss  Instances       Size\n",
      "       2/25      2.29G       1.06       2.47      1.223          4        640: 100%|██████████| 525/525 [01:40<00:00,  5.25it/s]\n",
      "                 Class     Images  Instances      Box(P          R      mAP50  mAP50-95): 100%|██████████| 75/75 [00:08<00:00,  8.89it/s]\n",
      "                   all        300       1011      0.344      0.145      0.091     0.0656\n",
      "\n",
      "      Epoch    GPU_mem   box_loss   cls_loss   dfl_loss  Instances       Size\n",
      "       3/25      2.29G      1.139      2.511      1.266         20        640: 100%|██████████| 525/525 [01:37<00:00,  5.37it/s]\n",
      "                 Class     Images  Instances      Box(P          R      mAP50  mAP50-95): 100%|██████████| 75/75 [00:08<00:00,  8.68it/s]\n",
      "                   all        300       1011      0.268      0.121     0.0811     0.0562\n",
      "\n",
      "      Epoch    GPU_mem   box_loss   cls_loss   dfl_loss  Instances       Size\n",
      "       4/25      2.29G      1.298      2.491      1.347         11        640: 100%|██████████| 525/525 [01:47<00:00,  4.88it/s]\n",
      "                 Class     Images  Instances      Box(P          R      mAP50  mAP50-95): 100%|██████████| 75/75 [00:08<00:00,  8.38it/s]\n",
      "                   all        300       1011      0.335      0.128     0.0762     0.0511\n",
      "\n",
      "      Epoch    GPU_mem   box_loss   cls_loss   dfl_loss  Instances       Size\n",
      "       5/25      2.29G      1.374      2.525      1.395          1        640: 100%|██████████| 525/525 [01:48<00:00,  4.85it/s]\n",
      "                 Class     Images  Instances      Box(P          R      mAP50  mAP50-95): 100%|██████████| 75/75 [00:09<00:00,  7.97it/s]\n",
      "                   all        300       1011      0.417      0.139     0.0673     0.0451\n",
      "\n",
      "      Epoch    GPU_mem   box_loss   cls_loss   dfl_loss  Instances       Size\n",
      "       6/25      2.29G       1.39      2.443       1.42          7        640: 100%|██████████| 525/525 [01:42<00:00,  5.13it/s]\n",
      "                 Class     Images  Instances      Box(P          R      mAP50  mAP50-95): 100%|██████████| 75/75 [00:08<00:00,  8.91it/s]\n",
      "                   all        300       1011      0.108      0.107     0.0673     0.0427\n",
      "\n",
      "      Epoch    GPU_mem   box_loss   cls_loss   dfl_loss  Instances       Size\n",
      "       7/25      2.29G      1.412      2.458      1.391          5        640: 100%|██████████| 525/525 [01:40<00:00,  5.22it/s]\n",
      "                 Class     Images  Instances      Box(P          R      mAP50  mAP50-95): 100%|██████████| 75/75 [00:08<00:00,  8.91it/s]\n",
      "                   all        300       1011      0.257      0.129     0.0477     0.0306\n",
      "\n",
      "      Epoch    GPU_mem   box_loss   cls_loss   dfl_loss  Instances       Size\n",
      "       8/25      2.29G      1.474      2.457      1.454          6        640: 100%|██████████| 525/525 [01:42<00:00,  5.12it/s]\n",
      "                 Class     Images  Instances      Box(P          R      mAP50  mAP50-95): 100%|██████████| 75/75 [00:08<00:00,  8.53it/s]\n",
      "                   all        300       1011      0.439      0.121      0.074     0.0474\n",
      "\n",
      "      Epoch    GPU_mem   box_loss   cls_loss   dfl_loss  Instances       Size\n",
      "       9/25      2.29G      1.398      2.377      1.439          2        640: 100%|██████████| 525/525 [01:43<00:00,  5.07it/s]\n",
      "                 Class     Images  Instances      Box(P          R      mAP50  mAP50-95): 100%|██████████| 75/75 [00:08<00:00,  9.04it/s]\n",
      "                   all        300       1011      0.264      0.141     0.0777     0.0494\n",
      "\n",
      "      Epoch    GPU_mem   box_loss   cls_loss   dfl_loss  Instances       Size\n",
      "      10/25      2.29G      1.364      2.332      1.378          1        640: 100%|██████████| 525/525 [01:42<00:00,  5.13it/s]\n",
      "                 Class     Images  Instances      Box(P          R      mAP50  mAP50-95): 100%|██████████| 75/75 [00:08<00:00,  8.54it/s]\n",
      "                   all        300       1011      0.106      0.166     0.0836      0.056\n",
      "\n",
      "      Epoch    GPU_mem   box_loss   cls_loss   dfl_loss  Instances       Size\n",
      "      11/25      2.29G      1.374      2.291       1.39          1        640: 100%|██████████| 525/525 [01:45<00:00,  4.97it/s]\n",
      "                 Class     Images  Instances      Box(P          R      mAP50  mAP50-95): 100%|██████████| 75/75 [00:08<00:00,  8.53it/s]\n",
      "                   all        300       1011      0.128      0.159     0.0808     0.0541\n",
      "\n",
      "      Epoch    GPU_mem   box_loss   cls_loss   dfl_loss  Instances       Size\n",
      "      12/25      2.29G      1.284      2.195      1.354          2        640: 100%|██████████| 525/525 [01:43<00:00,  5.09it/s]\n",
      "                 Class     Images  Instances      Box(P          R      mAP50  mAP50-95): 100%|██████████| 75/75 [00:08<00:00,  8.39it/s]\n",
      "                   all        300       1011      0.109      0.174     0.0816     0.0546\n",
      "\n",
      "      Epoch    GPU_mem   box_loss   cls_loss   dfl_loss  Instances       Size\n",
      "      13/25      2.29G      1.299      2.166      1.349          3        640: 100%|██████████| 525/525 [01:45<00:00,  4.96it/s]\n",
      "                 Class     Images  Instances      Box(P          R      mAP50  mAP50-95): 100%|██████████| 75/75 [00:09<00:00,  8.30it/s]\n",
      "                   all        300       1011      0.455      0.115     0.0834     0.0545\n",
      "\n",
      "      Epoch    GPU_mem   box_loss   cls_loss   dfl_loss  Instances       Size\n",
      "      14/25      2.29G      1.284      2.188       1.35          3        640: 100%|██████████| 525/525 [01:41<00:00,  5.19it/s]\n",
      "                 Class     Images  Instances      Box(P          R      mAP50  mAP50-95): 100%|██████████| 75/75 [00:08<00:00,  8.62it/s]\n",
      "                   all        300       1011      0.313      0.159     0.0961      0.063\n",
      "\n",
      "      Epoch    GPU_mem   box_loss   cls_loss   dfl_loss  Instances       Size\n",
      "      15/25      2.29G      1.226      2.035      1.302          7        640: 100%|██████████| 525/525 [01:37<00:00,  5.41it/s]\n",
      "                 Class     Images  Instances      Box(P          R      mAP50  mAP50-95): 100%|██████████| 75/75 [00:08<00:00,  8.91it/s]\n",
      "                   all        300       1011      0.337      0.175     0.0963     0.0639\n",
      "Closing dataloader mosaic\n",
      "\n",
      "      Epoch    GPU_mem   box_loss   cls_loss   dfl_loss  Instances       Size\n",
      "      16/25      2.29G      1.119      1.943      1.232          4        640: 100%|██████████| 525/525 [01:34<00:00,  5.53it/s]\n",
      "                 Class     Images  Instances      Box(P          R      mAP50  mAP50-95): 100%|██████████| 75/75 [00:10<00:00,  7.42it/s]\n",
      "                   all        300       1011      0.309       0.17     0.0898     0.0618\n",
      "Stopping training early as no improvement observed in last 15 epochs. Best results observed at epoch 1, best model saved as best.pt.\n",
      "To update EarlyStopping(patience=15) pass a new patience value, i.e. `patience=300` or use `patience=0` to disable EarlyStopping.\n",
      "\n",
      "16 epochs completed in 0.516 hours.\n",
      "Optimizer stripped from runs/detect/train17/weights/last.pt, 87.7MB\n",
      "Optimizer stripped from runs/detect/train17/weights/best.pt, 87.7MB\n",
      "\n",
      "Validating runs/detect/train17/weights/best.pt...\n",
      "Ultralytics YOLOv8.0.57 🚀 Python-3.8.12 torch-1.10.1 CUDA:0 (NVIDIA GeForce RTX 2080 Ti, 11019MiB)\n",
      "Model summary (fused): 268 layers, 43612005 parameters, 0 gradients, 164.8 GFLOPs\n",
      "                 Class     Images  Instances      Box(P          R      mAP50  mAP50-95):   0%|          | 0/75 [00:00<?, ?it/s]This DataLoader will create 4 worker processes in total. Our suggested max number of worker in current system is 2, which is smaller than what this DataLoader is going to create. Please be aware that excessive worker creation might get DataLoader running slow or even freeze, lower the worker number to avoid potential slowness/freeze if necessary.\n",
      "                 Class     Images  Instances      Box(P          R      mAP50  mAP50-95): 100%|██████████| 75/75 [00:09<00:00,  8.32it/s]\n",
      "                   all        300       1011      0.316      0.148     0.0899     0.0687\n",
      "                   bio        300          2          1          0          0          0\n",
      "                 glass        300         66      0.119     0.0606      0.018     0.0105\n",
      "    metals_and_plastic        300        497      0.383      0.382      0.304      0.235\n",
      "        non_recyclable        300        259      0.154      0.189     0.0809     0.0588\n",
      "                 paper        300         63      0.127      0.222       0.11     0.0925\n",
      "               unknown        300        124      0.113     0.0323     0.0265     0.0151\n",
      "Speed: 0.5ms preprocess, 13.9ms inference, 0.0ms loss, 2.9ms postprocess per image\n",
      "Results saved to \u001b[1mruns/detect/train17\u001b[0m\n",
      "Ultralytics YOLOv8.0.57 🚀 Python-3.8.12 torch-1.10.1 CUDA:0 (NVIDIA GeForce RTX 2080 Ti, 11019MiB)\n",
      "Model summary (fused): 268 layers, 43612005 parameters, 0 gradients, 164.8 GFLOPs\n",
      "\u001b[34m\u001b[1mval: \u001b[0mScanning /home/muradek/Deep_project/TACO-train_test-1/valid/labels.cache... 300 images, 0 backgrounds, 0 corrupt: 100%|██████████| 300/300 [00:00<?, ?it/s]\u001b[0m\n",
      "                 Class     Images  Instances      Box(P          R      mAP50  mAP50-95): 100%|██████████| 150/150 [00:10<00:00, 14.41it/s]\n",
      "                   all        300       1011      0.317      0.148     0.0899     0.0688\n",
      "                   bio        300          2          1          0          0          0\n",
      "                 glass        300         66      0.119     0.0606     0.0181     0.0106\n",
      "    metals_and_plastic        300        497      0.386      0.382      0.303      0.235\n",
      "        non_recyclable        300        259      0.154      0.189      0.081      0.059\n",
      "                 paper        300         63      0.127      0.222      0.111     0.0926\n",
      "               unknown        300        124      0.113     0.0323     0.0266     0.0152\n",
      "Speed: 0.8ms preprocess, 21.9ms inference, 0.0ms loss, 2.3ms postprocess per image\n",
      "Results saved to \u001b[1mruns/detect/val2\u001b[0m\n"
     ]
    },
    {
     "name": "stdout",
     "output_type": "stream",
     "text": [
      "finished YOLO setting\n"
     ]
    }
   ],
   "source": [
    "model, train_res, val_res = set_model(dataset, \"yolov8l.pt\")"
   ]
  },
  {
   "cell_type": "code",
   "execution_count": 6,
   "metadata": {
    "collapsed": true,
    "jupyter": {
     "outputs_hidden": true
    },
    "tags": []
   },
   "outputs": [
    {
     "name": "stderr",
     "output_type": "stream",
     "text": [
      "\n"
     ]
    },
    {
     "name": "stdout",
     "output_type": "stream",
     "text": [
      "started predicting\n"
     ]
    },
    {
     "name": "stderr",
     "output_type": "stream",
     "text": [
      "image 1/150 /home/muradek/Deep_project/TACO-train_test-1/test/images/batch_10_000009_jpg.rf.85d05f059b9ca038a639dcb0803885d5.jpg: 640x640 (no detections), 509.8ms\n",
      "image 2/150 /home/muradek/Deep_project/TACO-train_test-1/test/images/batch_10_000010_jpg.rf.d163a02c9c4b99f54f9ffd260b6029f8.jpg: 640x640 (no detections), 26.2ms\n",
      "image 3/150 /home/muradek/Deep_project/TACO-train_test-1/test/images/batch_10_000020_jpg.rf.abb66232226da1599d03aff08dd44434.jpg: 640x640 1 metals_and_plastic, 1 paper, 26.3ms\n",
      "image 4/150 /home/muradek/Deep_project/TACO-train_test-1/test/images/batch_10_000025_jpg.rf.eece8cad1482d8c8ac0a364b1d366058.jpg: 640x640 (no detections), 26.7ms\n",
      "image 5/150 /home/muradek/Deep_project/TACO-train_test-1/test/images/batch_10_000042_jpg.rf.7ffe24757ddb31c53407666c876d8b8f.jpg: 640x640 1 non_recyclable, 26.8ms\n",
      "image 6/150 /home/muradek/Deep_project/TACO-train_test-1/test/images/batch_10_000046_jpg.rf.79d03ebbeb9e217b136d7aee115c5c27.jpg: 640x640 1 metals_and_plastic, 1 non_recyclable, 28.6ms\n",
      "image 7/150 /home/muradek/Deep_project/TACO-train_test-1/test/images/batch_10_000089_jpg.rf.debb64ed1e581d6aad85a68d6aea6749.jpg: 640x640 1 metals_and_plastic, 1 paper, 28.7ms\n",
      "image 8/150 /home/muradek/Deep_project/TACO-train_test-1/test/images/batch_10_000098_jpg.rf.2720d8e9c560cf479a7a748c32cc6cf9.jpg: 640x640 1 metals_and_plastic, 1 paper, 27.5ms\n",
      "image 9/150 /home/muradek/Deep_project/TACO-train_test-1/test/images/batch_11_000001_jpg.rf.825ed1208894254338e4ec16a60ca912.jpg: 640x640 1 non_recyclable, 24.5ms\n",
      "image 10/150 /home/muradek/Deep_project/TACO-train_test-1/test/images/batch_11_000005_jpg.rf.6b1175fbb925af8301fa3c586bb0cada.jpg: 640x640 1 paper, 23.0ms\n",
      "image 11/150 /home/muradek/Deep_project/TACO-train_test-1/test/images/batch_11_000023_jpg.rf.4d9a03a8d1c48c056e817fd54f4ffa90.jpg: 640x640 1 metals_and_plastic, 23.6ms\n",
      "image 12/150 /home/muradek/Deep_project/TACO-train_test-1/test/images/batch_11_000027_jpg.rf.da2f471f30faecb70d9bcb5d5cdd3a24.jpg: 640x640 1 metals_and_plastic, 23.4ms\n",
      "image 13/150 /home/muradek/Deep_project/TACO-train_test-1/test/images/batch_11_000039_jpg.rf.eafab4509e15466bfe0a0c59b05596d1.jpg: 640x640 (no detections), 24.2ms\n",
      "image 14/150 /home/muradek/Deep_project/TACO-train_test-1/test/images/batch_11_000040_jpg.rf.ffba037caf94dab06552aaee3f81448c.jpg: 640x640 (no detections), 23.1ms\n",
      "image 15/150 /home/muradek/Deep_project/TACO-train_test-1/test/images/batch_11_000041_jpg.rf.7eac824ed737f3f95f52e3b8338ae401.jpg: 640x640 (no detections), 26.1ms\n",
      "image 16/150 /home/muradek/Deep_project/TACO-train_test-1/test/images/batch_11_000046_jpg.rf.a98bcf62ee4ba45a45fb094e2bac7c34.jpg: 640x640 1 non_recyclable, 27.9ms\n",
      "image 17/150 /home/muradek/Deep_project/TACO-train_test-1/test/images/batch_11_000057_jpg.rf.e15b2e7b178b63afda50df8a5dfd04e0.jpg: 640x640 2 metals_and_plastics, 27.8ms\n",
      "image 18/150 /home/muradek/Deep_project/TACO-train_test-1/test/images/batch_11_000065_jpg.rf.2329f0a883cb87794e502083917f5b33.jpg: 640x640 (no detections), 28.1ms\n",
      "image 19/150 /home/muradek/Deep_project/TACO-train_test-1/test/images/batch_11_000074_jpg.rf.bf7e71bf57907104fc30d787f785f9e4.jpg: 640x640 (no detections), 27.5ms\n",
      "image 20/150 /home/muradek/Deep_project/TACO-train_test-1/test/images/batch_11_000078_jpg.rf.274dae76f4579e412ba04ca459b9637e.jpg: 640x640 1 metals_and_plastic, 1 paper, 27.0ms\n",
      "image 21/150 /home/muradek/Deep_project/TACO-train_test-1/test/images/batch_11_000095_jpg.rf.0b6bc0a083e5310d633a6fb3baae4866.jpg: 640x640 1 metals_and_plastic, 24.1ms\n",
      "image 22/150 /home/muradek/Deep_project/TACO-train_test-1/test/images/batch_12_000001_jpg.rf.e0ad27fd7f889470b1695c765973df56.jpg: 640x640 1 metals_and_plastic, 26.6ms\n",
      "image 23/150 /home/muradek/Deep_project/TACO-train_test-1/test/images/batch_12_000010_jpg.rf.1c09afe92b0568adaf8fc406dbcc5ede.jpg: 640x640 1 paper, 31.3ms\n",
      "image 24/150 /home/muradek/Deep_project/TACO-train_test-1/test/images/batch_12_000011_jpg.rf.bed2ea6ac62e0e676063070849a20db5.jpg: 640x640 1 non_recyclable, 1 paper, 28.2ms\n",
      "image 25/150 /home/muradek/Deep_project/TACO-train_test-1/test/images/batch_12_000020_jpg.rf.bac8aeb653573235bb89652befd47ebf.jpg: 640x640 1 non_recyclable, 29.1ms\n",
      "image 26/150 /home/muradek/Deep_project/TACO-train_test-1/test/images/batch_12_000021_jpg.rf.a445e146b82d3ad066d12e0cbfcc2d1c.jpg: 640x640 (no detections), 24.9ms\n",
      "image 27/150 /home/muradek/Deep_project/TACO-train_test-1/test/images/batch_12_000044_jpg.rf.8a14ab3c0fdc90c2b852e3ed72159de7.jpg: 640x640 1 metals_and_plastic, 1 non_recyclable, 24.7ms\n",
      "image 28/150 /home/muradek/Deep_project/TACO-train_test-1/test/images/batch_12_000060_jpg.rf.1b272eb75637bd211abc357af7067a5f.jpg: 640x640 1 metals_and_plastic, 22.2ms\n",
      "image 29/150 /home/muradek/Deep_project/TACO-train_test-1/test/images/batch_12_000070_jpg.rf.5592d43d4febae673b547e3b25649b8a.jpg: 640x640 1 metals_and_plastic, 1 paper, 26.1ms\n",
      "image 30/150 /home/muradek/Deep_project/TACO-train_test-1/test/images/batch_12_000071_jpg.rf.600ee48e461f1af66bd5611c46d3c66b.jpg: 640x640 1 metals_and_plastic, 27.0ms\n",
      "image 31/150 /home/muradek/Deep_project/TACO-train_test-1/test/images/batch_12_000092_jpg.rf.61202a7cbfdd3b4c91b2fd92fc16176b.jpg: 640x640 1 metals_and_plastic, 26.1ms\n",
      "image 32/150 /home/muradek/Deep_project/TACO-train_test-1/test/images/batch_13_000049_jpg.rf.0e0006e128d8425592c79a2b372ae8f9.jpg: 640x640 (no detections), 24.3ms\n",
      "image 33/150 /home/muradek/Deep_project/TACO-train_test-1/test/images/batch_13_000052_jpg.rf.0cae363447f5afb4c6f4851939fbe155.jpg: 640x640 1 non_recyclable, 24.9ms\n",
      "image 34/150 /home/muradek/Deep_project/TACO-train_test-1/test/images/batch_13_000074_jpg.rf.5b13f1cd9512cc7555ae731f8e19ab4d.jpg: 640x640 1 metals_and_plastic, 25.2ms\n",
      "image 35/150 /home/muradek/Deep_project/TACO-train_test-1/test/images/batch_13_000088_jpg.rf.6a96c5fed2027af4f562aa7551c3ab70.jpg: 640x640 1 paper, 24.0ms\n",
      "image 36/150 /home/muradek/Deep_project/TACO-train_test-1/test/images/batch_14_000004_jpg.rf.b1e456ec8bc66a5530f9a0fe6939f9c3.jpg: 640x640 1 non_recyclable, 1 paper, 24.7ms\n",
      "image 37/150 /home/muradek/Deep_project/TACO-train_test-1/test/images/batch_14_000005_jpg.rf.d7f693c522d4b3e50117dc645882ecaa.jpg: 640x640 (no detections), 23.2ms\n",
      "image 38/150 /home/muradek/Deep_project/TACO-train_test-1/test/images/batch_14_000033_jpg.rf.1c741eb1d834b4fb6f0563293c7722e4.jpg: 640x640 1 non_recyclable, 24.1ms\n",
      "image 39/150 /home/muradek/Deep_project/TACO-train_test-1/test/images/batch_14_000035_jpg.rf.8bf9d3da52648175620f3a6e3e0643ca.jpg: 640x640 (no detections), 24.7ms\n",
      "image 40/150 /home/muradek/Deep_project/TACO-train_test-1/test/images/batch_14_000038_jpg.rf.5175e66d4c16e94035df8f1a52e52681.jpg: 640x640 2 metals_and_plastics, 22.2ms\n",
      "image 41/150 /home/muradek/Deep_project/TACO-train_test-1/test/images/batch_14_000061_jpg.rf.22d4330a0eaf7355a4d758c65981a446.jpg: 640x640 1 metals_and_plastic, 1 paper, 26.7ms\n",
      "image 42/150 /home/muradek/Deep_project/TACO-train_test-1/test/images/batch_14_000072_jpg.rf.21ecf5cba71a64a350d9b47481bed9b4.jpg: 640x640 1 metals_and_plastic, 25.9ms\n",
      "image 43/150 /home/muradek/Deep_project/TACO-train_test-1/test/images/batch_15_000000_jpg.rf.ae72f6a57588a50727152c91ea7c9cf5.jpg: 640x640 1 non_recyclable, 1 paper, 24.0ms\n",
      "image 44/150 /home/muradek/Deep_project/TACO-train_test-1/test/images/batch_15_000001_jpg.rf.1aa4d417f7205bc8d2937e12ba6b714f.jpg: 640x640 1 metals_and_plastic, 24.4ms\n",
      "image 45/150 /home/muradek/Deep_project/TACO-train_test-1/test/images/batch_15_000004_jpg.rf.1e47d32e00ecbf02bfe73b8c1e0b4a85.jpg: 640x640 (no detections), 23.7ms\n",
      "image 46/150 /home/muradek/Deep_project/TACO-train_test-1/test/images/batch_15_000010_jpg.rf.e7b41f61d50c8f617deaf419e385f83c.jpg: 640x640 1 non_recyclable, 22.7ms\n",
      "image 47/150 /home/muradek/Deep_project/TACO-train_test-1/test/images/batch_15_000016_jpg.rf.62d2c6d8292a08a54a44bea7496020d1.jpg: 640x640 3 metals_and_plastics, 23.6ms\n",
      "image 48/150 /home/muradek/Deep_project/TACO-train_test-1/test/images/batch_15_000017_jpg.rf.e2e8dd9387c4cd957d1fd49ad2be063c.jpg: 640x640 1 metals_and_plastic, 23.3ms\n",
      "image 49/150 /home/muradek/Deep_project/TACO-train_test-1/test/images/batch_15_000019_jpg.rf.ff3db883159508042bb4767ac2e3d7db.jpg: 640x640 1 metals_and_plastic, 23.5ms\n",
      "image 50/150 /home/muradek/Deep_project/TACO-train_test-1/test/images/batch_15_000025_jpg.rf.9670e5fcf662b00293f7706cbe1b19f1.jpg: 640x640 1 metals_and_plastic, 23.4ms\n",
      "image 51/150 /home/muradek/Deep_project/TACO-train_test-1/test/images/batch_15_000027_jpg.rf.d89a0d095ecf0d5ecb3888e504bfd756.jpg: 640x640 2 metals_and_plastics, 1 paper, 25.4ms\n",
      "image 52/150 /home/muradek/Deep_project/TACO-train_test-1/test/images/batch_15_000049_jpg.rf.f057698bf5761a90b6b35296353d0e53.jpg: 640x640 1 non_recyclable, 1 paper, 25.8ms\n",
      "image 53/150 /home/muradek/Deep_project/TACO-train_test-1/test/images/batch_15_000054_jpg.rf.e4347cb8dfd180c9c64a74a5f4966be6.jpg: 640x640 1 metals_and_plastic, 26.4ms\n",
      "image 54/150 /home/muradek/Deep_project/TACO-train_test-1/test/images/batch_15_000057_jpg.rf.81916d81602396a6bbba4cea188e5cbb.jpg: 640x640 1 metals_and_plastic, 1 paper, 23.5ms\n",
      "image 55/150 /home/muradek/Deep_project/TACO-train_test-1/test/images/batch_15_000058_jpg.rf.af6809cbed34e4c21abf32893925b5bb.jpg: 640x640 1 non_recyclable, 23.1ms\n",
      "image 56/150 /home/muradek/Deep_project/TACO-train_test-1/test/images/batch_15_000078_jpg.rf.9666b06f9cedfaa0ae1628fae0b470d2.jpg: 640x640 2 metals_and_plastics, 22.9ms\n",
      "image 57/150 /home/muradek/Deep_project/TACO-train_test-1/test/images/batch_1_000006_jpg.rf.fe96dc2a2d8bd637be1ec2b73a83f239.jpg: 640x640 2 metals_and_plastics, 23.5ms\n",
      "image 58/150 /home/muradek/Deep_project/TACO-train_test-1/test/images/batch_1_000010_jpg.rf.038cbc570aa2ab10cde8903c2a8e955c.jpg: 640x640 1 metals_and_plastic, 25.0ms\n",
      "image 59/150 /home/muradek/Deep_project/TACO-train_test-1/test/images/batch_1_000025_jpg.rf.eea60f544259491090c5ec9ddc031db5.jpg: 640x640 1 metals_and_plastic, 30.3ms\n",
      "image 60/150 /home/muradek/Deep_project/TACO-train_test-1/test/images/batch_1_000027_jpg.rf.a4e4b542528fac4b72bc73432ef80ecb.jpg: 640x640 (no detections), 31.5ms\n",
      "image 61/150 /home/muradek/Deep_project/TACO-train_test-1/test/images/batch_1_000029_jpg.rf.783f6345ab31ccc533740122a86094fa.jpg: 640x640 1 metals_and_plastic, 31.2ms\n",
      "image 62/150 /home/muradek/Deep_project/TACO-train_test-1/test/images/batch_1_000072_JPG.rf.8eb527d50430cec28b7895e6992bddfa.jpg: 640x640 1 metals_and_plastic, 1 non_recyclable, 29.0ms\n",
      "image 63/150 /home/muradek/Deep_project/TACO-train_test-1/test/images/batch_1_000076_JPG.rf.9059f54a4e497693022e6547074d1431.jpg: 640x640 (no detections), 39.3ms\n",
      "image 64/150 /home/muradek/Deep_project/TACO-train_test-1/test/images/batch_1_000090_JPG.rf.cd87e804b333c4089cca9e771534d0c3.jpg: 640x640 1 metals_and_plastic, 30.5ms\n",
      "image 65/150 /home/muradek/Deep_project/TACO-train_test-1/test/images/batch_1_000093_JPG.rf.882895532633c1d87d1206ac793f8a21.jpg: 640x640 2 metals_and_plastics, 1 non_recyclable, 27.2ms\n",
      "image 66/150 /home/muradek/Deep_project/TACO-train_test-1/test/images/batch_1_000094_JPG.rf.ab3a9b9159cc86679993f0efdebced1c.jpg: 640x640 2 metals_and_plastics, 25.9ms\n",
      "image 67/150 /home/muradek/Deep_project/TACO-train_test-1/test/images/batch_1_000099_JPG.rf.225b8b0790f7c1b1013d44a7341b7623.jpg: 640x640 1 metals_and_plastic, 1 non_recyclable, 23.5ms\n",
      "image 68/150 /home/muradek/Deep_project/TACO-train_test-1/test/images/batch_1_000104_JPG.rf.0576b2d366da8255974240af6adf9285.jpg: 640x640 2 metals_and_plastics, 2 non_recyclables, 24.1ms\n",
      "image 69/150 /home/muradek/Deep_project/TACO-train_test-1/test/images/batch_1_000118_JPG.rf.2c894479ec2e8a2072e4a2aa63808118.jpg: 640x640 (no detections), 22.5ms\n",
      "image 70/150 /home/muradek/Deep_project/TACO-train_test-1/test/images/batch_1_000128_JPG.rf.d892cdad2a9cca99eb31985544f28ddf.jpg: 640x640 8 metals_and_plastics, 2 non_recyclables, 23.4ms\n",
      "image 71/150 /home/muradek/Deep_project/TACO-train_test-1/test/images/batch_2_000005_JPG.rf.ba013b320907e7d72b7e429e7472e44e.jpg: 640x640 1 metals_and_plastic, 1 paper, 23.6ms\n",
      "image 72/150 /home/muradek/Deep_project/TACO-train_test-1/test/images/batch_2_000008_JPG.rf.c33046f2f7c62c9d8210301c5ecee8a8.jpg: 640x640 2 metals_and_plastics, 22.7ms\n",
      "image 73/150 /home/muradek/Deep_project/TACO-train_test-1/test/images/batch_2_000010_JPG.rf.dabf640b7fcfc419465456059449c9d5.jpg: 640x640 1 metals_and_plastic, 23.1ms\n",
      "image 74/150 /home/muradek/Deep_project/TACO-train_test-1/test/images/batch_2_000014_JPG.rf.ed9e9985f098923354a87d5f352725e0.jpg: 640x640 (no detections), 23.1ms\n",
      "image 75/150 /home/muradek/Deep_project/TACO-train_test-1/test/images/batch_2_000023_JPG.rf.7dba27daa77959679a0e33e3d50e383e.jpg: 640x640 1 metals_and_plastic, 1 non_recyclable, 24.0ms\n",
      "image 76/150 /home/muradek/Deep_project/TACO-train_test-1/test/images/batch_2_000034_JPG.rf.4375ff64e29a06a79e1803c0574e0dc9.jpg: 640x640 1 non_recyclable, 24.2ms\n",
      "image 77/150 /home/muradek/Deep_project/TACO-train_test-1/test/images/batch_2_000046_JPG.rf.29e931c08058997f437e011e01e063f2.jpg: 640x640 1 metals_and_plastic, 28.6ms\n",
      "image 78/150 /home/muradek/Deep_project/TACO-train_test-1/test/images/batch_2_000056_JPG.rf.a3456938d502c4ff653c9f13d6b37582.jpg: 640x640 (no detections), 24.3ms\n",
      "image 79/150 /home/muradek/Deep_project/TACO-train_test-1/test/images/batch_2_000081_JPG.rf.b9d0560f313c3de20df5125318f7a4df.jpg: 640x640 1 non_recyclable, 23.1ms\n",
      "image 80/150 /home/muradek/Deep_project/TACO-train_test-1/test/images/batch_3_IMG_4898_JPG.rf.987c489ff8b89ff8169b87633ea976c9.jpg: 640x640 (no detections), 27.6ms\n",
      "image 81/150 /home/muradek/Deep_project/TACO-train_test-1/test/images/batch_3_IMG_4924_JPG.rf.990a873e8bd0e944ed3e14e18dddc2c0.jpg: 640x640 1 metals_and_plastic, 25.1ms\n",
      "image 82/150 /home/muradek/Deep_project/TACO-train_test-1/test/images/batch_3_IMG_4966_JPG.rf.4e130e61153f7e8c2bbe03215665c596.jpg: 640x640 1 non_recyclable, 26.0ms\n",
      "image 83/150 /home/muradek/Deep_project/TACO-train_test-1/test/images/batch_3_IMG_4971_JPG.rf.ae7798e919805418619be38f48d23a58.jpg: 640x640 1 metals_and_plastic, 24.4ms\n",
      "image 84/150 /home/muradek/Deep_project/TACO-train_test-1/test/images/batch_3_IMG_5003_JPG.rf.953795de92356dee11cd740a1d11cfd6.jpg: 640x640 (no detections), 30.4ms\n",
      "image 85/150 /home/muradek/Deep_project/TACO-train_test-1/test/images/batch_3_IMG_5041_JPG.rf.de2318ff8dbbc067586568784fed7086.jpg: 640x640 1 metals_and_plastic, 1 paper, 32.7ms\n",
      "image 86/150 /home/muradek/Deep_project/TACO-train_test-1/test/images/batch_3_IMG_5043_JPG.rf.4fe7b801f348a5155f59c252b7216557.jpg: 640x640 2 metals_and_plastics, 27.8ms\n",
      "image 87/150 /home/muradek/Deep_project/TACO-train_test-1/test/images/batch_3_IMG_5048_JPG.rf.8c29e9c0d17af0c37fa1d1d8714273ed.jpg: 640x640 (no detections), 26.1ms\n",
      "image 88/150 /home/muradek/Deep_project/TACO-train_test-1/test/images/batch_3_IMG_5067_JPG.rf.0935d2be9cf47fa3afc953b58c4d01ce.jpg: 640x640 1 metals_and_plastic, 2 non_recyclables, 1 paper, 25.2ms\n",
      "image 89/150 /home/muradek/Deep_project/TACO-train_test-1/test/images/batch_4_000007_JPG.rf.8666d3e843b4d02b66d05bcfb56d9f37.jpg: 640x640 (no detections), 24.7ms\n",
      "image 90/150 /home/muradek/Deep_project/TACO-train_test-1/test/images/batch_4_000008_JPG.rf.6df1b3143b533e7a1e76f9718d48fd24.jpg: 640x640 (no detections), 30.9ms\n",
      "image 91/150 /home/muradek/Deep_project/TACO-train_test-1/test/images/batch_4_000015_JPG.rf.1f9337680c59e10abeba3195162c4005.jpg: 640x640 (no detections), 25.7ms\n",
      "image 92/150 /home/muradek/Deep_project/TACO-train_test-1/test/images/batch_4_000016_JPG.rf.987c18f4abe197cc38ac042886fbc7b6.jpg: 640x640 (no detections), 23.4ms\n",
      "image 93/150 /home/muradek/Deep_project/TACO-train_test-1/test/images/batch_4_000020_JPG.rf.73f3976e034ef17c25bccbcb7f36485c.jpg: 640x640 (no detections), 23.0ms\n",
      "image 94/150 /home/muradek/Deep_project/TACO-train_test-1/test/images/batch_4_000022_JPG.rf.1466ab0f78c729699cb0a0dca0493c88.jpg: 640x640 (no detections), 23.9ms\n",
      "image 95/150 /home/muradek/Deep_project/TACO-train_test-1/test/images/batch_4_000051_JPG.rf.09e1b3a87aef1e0af06630a0e8af3ecb.jpg: 640x640 (no detections), 24.1ms\n",
      "image 96/150 /home/muradek/Deep_project/TACO-train_test-1/test/images/batch_4_000053_JPG.rf.a919ba36e9989209b50063a81a3aa195.jpg: 640x640 (no detections), 24.5ms\n",
      "image 97/150 /home/muradek/Deep_project/TACO-train_test-1/test/images/batch_4_000060_JPG.rf.45cd1ee2db26804cf58e7a3b06ae2b8e.jpg: 640x640 1 non_recyclable, 23.5ms\n",
      "image 98/150 /home/muradek/Deep_project/TACO-train_test-1/test/images/batch_4_000068_JPG.rf.5fb66a81259a55845ffab6df1fec3a34.jpg: 640x640 (no detections), 24.4ms\n",
      "image 99/150 /home/muradek/Deep_project/TACO-train_test-1/test/images/batch_4_000073_JPG.rf.640b46e4e2f88ded41e6ac1988dc0e7c.jpg: 640x640 1 non_recyclable, 22.0ms\n",
      "image 100/150 /home/muradek/Deep_project/TACO-train_test-1/test/images/batch_4_000095_JPG.rf.fd0ea7f5cc9d09bd48dd2595b1cf2e14.jpg: 640x640 (no detections), 23.3ms\n",
      "image 101/150 /home/muradek/Deep_project/TACO-train_test-1/test/images/batch_5_000002_JPG.rf.3223e235d1e28a6e2a9b27cf3f16d295.jpg: 640x640 (no detections), 23.4ms\n",
      "image 102/150 /home/muradek/Deep_project/TACO-train_test-1/test/images/batch_5_000009_JPG.rf.a545bbaf5d905e1c705d9dea4111eaf4.jpg: 640x640 3 metals_and_plastics, 23.7ms\n",
      "image 103/150 /home/muradek/Deep_project/TACO-train_test-1/test/images/batch_5_000011_JPG.rf.b1aed770de6f9e36fb23171682fae2cf.jpg: 640x640 1 metals_and_plastic, 24.6ms\n",
      "image 104/150 /home/muradek/Deep_project/TACO-train_test-1/test/images/batch_5_000019_JPG.rf.2db1fb4594bdf6ea9740013157d0b1df.jpg: 640x640 (no detections), 26.3ms\n",
      "image 105/150 /home/muradek/Deep_project/TACO-train_test-1/test/images/batch_5_000024_JPG.rf.2db69d7cb081f6fe735c9279ac421d98.jpg: 640x640 (no detections), 24.8ms\n",
      "image 106/150 /home/muradek/Deep_project/TACO-train_test-1/test/images/batch_5_000036_JPG.rf.74572b2d68a720dd0a9ae0c481906f2e.jpg: 640x640 1 non_recyclable, 31.4ms\n",
      "image 107/150 /home/muradek/Deep_project/TACO-train_test-1/test/images/batch_5_000041_JPG.rf.20593efb569b419dca3c76acbcbf94b1.jpg: 640x640 1 non_recyclable, 33.6ms\n",
      "image 108/150 /home/muradek/Deep_project/TACO-train_test-1/test/images/batch_5_000046_JPG.rf.0097f06a2887e4fda367da884c6e4ef8.jpg: 640x640 1 metals_and_plastic, 1 non_recyclable, 34.7ms\n",
      "image 109/150 /home/muradek/Deep_project/TACO-train_test-1/test/images/batch_5_000058_JPG.rf.4e9ebe91f77d7d440832e6b3dd8f5226.jpg: 640x640 (no detections), 35.8ms\n",
      "image 110/150 /home/muradek/Deep_project/TACO-train_test-1/test/images/batch_5_000059_JPG.rf.d1cdeee7b1feab158642f8b4f84e806e.jpg: 640x640 2 metals_and_plastics, 28.7ms\n",
      "image 111/150 /home/muradek/Deep_project/TACO-train_test-1/test/images/batch_5_000086_JPG.rf.a8d72a3424c857003a79c79e8853e20a.jpg: 640x640 (no detections), 34.2ms\n",
      "image 112/150 /home/muradek/Deep_project/TACO-train_test-1/test/images/batch_5_000087_JPG.rf.74463179ad1b158d106a70cd94d9e63d.jpg: 640x640 (no detections), 36.8ms\n",
      "image 113/150 /home/muradek/Deep_project/TACO-train_test-1/test/images/batch_5_000090_JPG.rf.581e9c42b4cdae30d484c1bb6c95c13f.jpg: 640x640 (no detections), 26.4ms\n",
      "image 114/150 /home/muradek/Deep_project/TACO-train_test-1/test/images/batch_5_000110_JPG.rf.83746b31fd5daaf3ed702967753c9b3b.jpg: 640x640 (no detections), 25.3ms\n",
      "image 115/150 /home/muradek/Deep_project/TACO-train_test-1/test/images/batch_5_000116_JPG.rf.fd8c2e441d9e8c436f93357008c217f5.jpg: 640x640 1 non_recyclable, 30.1ms\n",
      "image 116/150 /home/muradek/Deep_project/TACO-train_test-1/test/images/batch_6_000032_JPG.rf.15334a0e779aae34ff2a8b166fb4fd08.jpg: 640x640 1 metals_and_plastic, 26.6ms\n",
      "image 117/150 /home/muradek/Deep_project/TACO-train_test-1/test/images/batch_6_000034_JPG.rf.80c3a81d8f4b8ef47c2490202f85c990.jpg: 640x640 2 metals_and_plastics, 26.3ms\n",
      "image 118/150 /home/muradek/Deep_project/TACO-train_test-1/test/images/batch_6_000049_JPG.rf.cb6fc26b25bcca65c9a2d3fcb552fc7a.jpg: 640x640 1 non_recyclable, 38.7ms\n",
      "image 119/150 /home/muradek/Deep_project/TACO-train_test-1/test/images/batch_6_000051_JPG.rf.095e17b735d61090ea7cc8c3abd17300.jpg: 640x640 1 metals_and_plastic, 27.0ms\n",
      "image 120/150 /home/muradek/Deep_project/TACO-train_test-1/test/images/batch_6_000052_JPG.rf.59c5360c9e8c6d65d9a8be68b6f08036.jpg: 640x640 2 metals_and_plastics, 28.6ms\n",
      "image 121/150 /home/muradek/Deep_project/TACO-train_test-1/test/images/batch_6_000068_JPG.rf.0b37b690616fcc509450de46b46ffc11.jpg: 640x640 1 non_recyclable, 1 unknown, 27.6ms\n",
      "image 122/150 /home/muradek/Deep_project/TACO-train_test-1/test/images/batch_6_000070_JPG.rf.7155492b2667b00982fcddfb4260f5d8.jpg: 640x640 1 metals_and_plastic, 25.9ms\n",
      "image 123/150 /home/muradek/Deep_project/TACO-train_test-1/test/images/batch_6_000078_JPG.rf.44425c535c9d8a90dbc40e6c0b150a50.jpg: 640x640 3 metals_and_plastics, 24.6ms\n",
      "image 124/150 /home/muradek/Deep_project/TACO-train_test-1/test/images/batch_6_000083_JPG.rf.b6fef3f87d60a2379bdd1221fb601848.jpg: 640x640 1 metals_and_plastic, 24.0ms\n",
      "image 125/150 /home/muradek/Deep_project/TACO-train_test-1/test/images/batch_6_000092_JPG.rf.e0eed3edd56d6a9783bce0053534ba15.jpg: 640x640 (no detections), 26.6ms\n",
      "image 126/150 /home/muradek/Deep_project/TACO-train_test-1/test/images/batch_6_000094_JPG.rf.77fe134a099a1ad5a6878661a2c388e2.jpg: 640x640 (no detections), 26.7ms\n",
      "image 127/150 /home/muradek/Deep_project/TACO-train_test-1/test/images/batch_6_000095_JPG.rf.b931990044689e698ec01bc8126b14d9.jpg: 640x640 1 non_recyclable, 26.6ms\n",
      "image 128/150 /home/muradek/Deep_project/TACO-train_test-1/test/images/batch_7_000023_JPG.rf.7cc961a06b73adaae3be1ed333fea908.jpg: 640x640 1 non_recyclable, 25.6ms\n",
      "image 129/150 /home/muradek/Deep_project/TACO-train_test-1/test/images/batch_7_000058_JPG.rf.9eb26a9135d602a9435698c5e93b410f.jpg: 640x640 1 metals_and_plastic, 1 non_recyclable, 22.8ms\n",
      "image 130/150 /home/muradek/Deep_project/TACO-train_test-1/test/images/batch_7_000125_JPG.rf.2e60047ac998592928b164f39ec72d52.jpg: 640x640 (no detections), 25.6ms\n",
      "image 131/150 /home/muradek/Deep_project/TACO-train_test-1/test/images/batch_8_000012_jpg.rf.e6199e8e7433bd81da1753db7740757e.jpg: 640x640 (no detections), 25.5ms\n",
      "image 132/150 /home/muradek/Deep_project/TACO-train_test-1/test/images/batch_8_000014_jpg.rf.ff7b19dad74189964859438352a08d04.jpg: 640x640 4 metals_and_plastics, 30.8ms\n",
      "image 133/150 /home/muradek/Deep_project/TACO-train_test-1/test/images/batch_8_000018_jpg.rf.fb089590eff4e73ad4f6a0b2b43c318a.jpg: 640x640 1 metals_and_plastic, 1 non_recyclable, 25.0ms\n",
      "image 134/150 /home/muradek/Deep_project/TACO-train_test-1/test/images/batch_8_000021_jpg.rf.9ea99ccd6fe98fe1869c1f0041535026.jpg: 640x640 1 metals_and_plastic, 27.9ms\n",
      "image 135/150 /home/muradek/Deep_project/TACO-train_test-1/test/images/batch_8_000029_jpg.rf.0cbc0ec7a28a76ba78559d1ece3458a8.jpg: 640x640 1 metals_and_plastic, 1 non_recyclable, 26.3ms\n",
      "image 136/150 /home/muradek/Deep_project/TACO-train_test-1/test/images/batch_8_000030_jpg.rf.ee68cc68ac1bf3c7578dd8178b8ab9a0.jpg: 640x640 1 metals_and_plastic, 26.8ms\n",
      "image 137/150 /home/muradek/Deep_project/TACO-train_test-1/test/images/batch_8_000034_jpg.rf.5a707ee100d4f6ad5b87351c04311915.jpg: 640x640 1 metals_and_plastic, 1 non_recyclable, 1 paper, 29.6ms\n",
      "image 138/150 /home/muradek/Deep_project/TACO-train_test-1/test/images/batch_8_000049_jpg.rf.39b03693384b55a9d8840e19c527ede1.jpg: 640x640 (no detections), 24.9ms\n",
      "image 139/150 /home/muradek/Deep_project/TACO-train_test-1/test/images/batch_8_000082_jpg.rf.4fac7ca6bc039dd7ce5d3ad7332d8a27.jpg: 640x640 2 metals_and_plastics, 21.6ms\n",
      "image 140/150 /home/muradek/Deep_project/TACO-train_test-1/test/images/batch_8_000086_jpg.rf.0fae386107b8f9e5c043b2cb3d25f931.jpg: 640x640 (no detections), 23.1ms\n",
      "image 141/150 /home/muradek/Deep_project/TACO-train_test-1/test/images/batch_8_000094_jpg.rf.7e17d02f83c07043b0c476908eb59109.jpg: 640x640 1 non_recyclable, 23.1ms\n",
      "image 142/150 /home/muradek/Deep_project/TACO-train_test-1/test/images/batch_9_000002_jpg.rf.be4e2713db1145782511750df73ea1a4.jpg: 640x640 (no detections), 24.2ms\n",
      "image 143/150 /home/muradek/Deep_project/TACO-train_test-1/test/images/batch_9_000044_jpg.rf.0a7dc54989957347581aab388a27e9e9.jpg: 640x640 (no detections), 21.0ms\n",
      "image 144/150 /home/muradek/Deep_project/TACO-train_test-1/test/images/batch_9_000046_jpg.rf.3c6fc1b17bf7021837a168037ee9a2d3.jpg: 640x640 (no detections), 22.5ms\n",
      "image 145/150 /home/muradek/Deep_project/TACO-train_test-1/test/images/batch_9_000050_jpg.rf.6deb56aaf5fc670ac0c7122b4d1d2cdb.jpg: 640x640 1 non_recyclable, 23.5ms\n",
      "image 146/150 /home/muradek/Deep_project/TACO-train_test-1/test/images/batch_9_000057_jpg.rf.653d7d7c169097dea2f781489da584fe.jpg: 640x640 (no detections), 25.7ms\n",
      "image 147/150 /home/muradek/Deep_project/TACO-train_test-1/test/images/batch_9_000064_jpg.rf.6dcc1a12283e395efe95d6de768449f3.jpg: 640x640 1 non_recyclable, 22.5ms\n",
      "image 148/150 /home/muradek/Deep_project/TACO-train_test-1/test/images/batch_9_000071_jpg.rf.1cd93b63f742bd46f49f6b66cd4c4182.jpg: 640x640 1 metals_and_plastic, 23.6ms\n",
      "image 149/150 /home/muradek/Deep_project/TACO-train_test-1/test/images/batch_9_000075_jpg.rf.b3b15f6658a0040dc772f9009fbd070b.jpg: 640x640 (no detections), 25.1ms\n",
      "image 150/150 /home/muradek/Deep_project/TACO-train_test-1/test/images/batch_9_000088_jpg.rf.b12d1c483cd112e7b842923e291edb83.jpg: 640x640 (no detections), 24.4ms\n",
      "Speed: 0.8ms preprocess, 29.2ms inference, 2.5ms postprocess per image at shape (1, 3, 640, 640)\n",
      "Results saved to \u001b[1mruns/detect/predict\u001b[0m\n"
     ]
    },
    {
     "name": "stdout",
     "output_type": "stream",
     "text": [
      "finished predicting\n"
     ]
    }
   ],
   "source": [
    "pred_res = pred(model, dataset)"
   ]
  },
  {
   "cell_type": "code",
   "execution_count": null,
   "metadata": {},
   "outputs": [],
   "source": []
  }
 ],
 "metadata": {
  "kernelspec": {
   "display_name": "Python 3 (ipykernel)",
   "language": "python",
   "name": "python3"
  },
  "language_info": {
   "codemirror_mode": {
    "name": "ipython",
    "version": 3
   },
   "file_extension": ".py",
   "mimetype": "text/x-python",
   "name": "python",
   "nbconvert_exporter": "python",
   "pygments_lexer": "ipython3",
   "version": "3.8.12"
  }
 },
 "nbformat": 4,
 "nbformat_minor": 4
}
