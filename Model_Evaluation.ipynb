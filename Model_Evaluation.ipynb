{
 "cells": [
  {
   "cell_type": "markdown",
   "id": "163eac58-a894-4012-8844-4da8ba0f1df0",
   "metadata": {
    "tags": []
   },
   "source": [
    "$$\n",
    "\\newcommand{\\mat}[1]{\\boldsymbol {#1}}\n",
    "\\newcommand{\\mattr}[1]{\\boldsymbol {#1}^\\top}\n",
    "\\newcommand{\\matinv}[1]{\\boldsymbol {#1}^{-1}}\n",
    "\\newcommand{\\vec}[1]{\\boldsymbol {#1}}\n",
    "\\newcommand{\\vectr}[1]{\\boldsymbol {#1}^\\top}\n",
    "\\newcommand{\\rvar}[1]{\\mathrm {#1}}\n",
    "\\newcommand{\\rvec}[1]{\\boldsymbol{\\mathrm{#1}}}\n",
    "\\newcommand{\\diag}{\\mathop{\\mathrm {diag}}}\n",
    "\\newcommand{\\set}[1]{\\mathbb {#1}}\n",
    "\\newcommand{\\cset}[1]{\\mathcal{#1}}\n",
    "\\newcommand{\\norm}[1]{\\left\\lVert#1\\right\\rVert}\n",
    "\\newcommand{\\pderiv}[2]{\\frac{\\partial #1}{\\partial #2}}\n",
    "\\newcommand{\\bb}[1]{\\boldsymbol{#1}}\n",
    "\\newcommand{\\E}[2][]{\\mathbb{E}_{#1}\\left[#2\\right]}\n",
    "\\newcommand{\\ip}[3]{\\left<#1,#2\\right>_{#3}}\n",
    "\\newcommand{\\given}[]{\\,\\middle\\vert\\,}\n",
    "\\newcommand{\\DKL}[2]{\\cset{D}_{\\text{KL}}\\left(#1\\,\\Vert\\, #2\\right)}\n",
    "\\newcommand{\\grad}[]{\\nabla}\n",
    "$$\n",
    "# Model Evaluation"
   ]
  },
  {
   "cell_type": "markdown",
   "id": "70de4bda-dad5-4e66-b27e-ecf429c8cd5e",
   "metadata": {
    "tags": []
   },
   "source": [
    "### Implementation Overview:\n",
    "We chose to approach the task by training a model using the YOLO8 model. This model is regarded as one of the leading models in image classification, detection and segmentation. To be able to train and test the model on the given data set we used the RoboFlow API to preproccess the dataset. \n",
    "\n",
    "#TODO add depth.\n",
    "\n"
   ]
  },
  {
   "cell_type": "markdown",
   "id": "b44dfe35-6504-4d65-8d5f-e6fc111c7cbb",
   "metadata": {},
   "source": [
    "### Code Structure:\n",
    "#TODO How to run and reproduce the results"
   ]
  },
  {
   "cell_type": "markdown",
   "id": "fcda3e08-06c3-454a-97aa-15ef1152458f",
   "metadata": {},
   "source": [
    "### External Code Usage:\n",
    "\n",
    "#TODO write about roboflow usage and YOLO. Coco Eval tools?"
   ]
  },
  {
   "cell_type": "markdown",
   "id": "6f76a145-81a6-4afe-8b5e-ce5b3037100c",
   "metadata": {},
   "source": [
    "### Analysis:"
   ]
  },
  {
   "cell_type": "markdown",
   "id": "a18818fe-d7fa-4852-9dc0-fc457782c516",
   "metadata": {},
   "source": [
    "\n",
    "#### Architecture:\n",
    "YOLO V8 consists of two main components. A backbone and a head. The backbone is a series of convolutional networks and course to fine (C2f) layers. The backbone creates features which are then passed to the head for detection using the models loss function. A diagram by [RangeKing](https://github.com/RangeKing) of the model can be seen here.\n",
    "\n",
    "<div>\n",
    "<img src=\"imgs/yolov8_architecture_diagram.jpeg\" width=\"1000\"/>\n",
    "</div>\n",
    "\n",
    "Sublayers are included in the diagram and it illustrates each well.\n",
    "\n",
    "The architecture utilizes bottlenecks and a pyramidal structure for the architecture. One pyramidal concept is the spatial pyramid pooling layers (SPP/SPPF).\n",
    "\n",
    "Some changes in this version of YOLO include;  \n",
    "    - Not using anchor boxes for detection which increased speed.\n",
    "    - A new backbone consisting of new convolutional building block and new C2f layers which have additional residual connections.\n",
    "    - And new loss functions\n",
    "    \n",
    "The full model can bee seen here on the [YOLOv8 repo](https://github.com/ultralytics/ultralytics/blob/main/ultralytics/models/v8/yolov8.yaml)"
   ]
  },
  {
   "cell_type": "markdown",
   "id": "a8563733-8435-4e0e-b2f3-afe72d69b828",
   "metadata": {},
   "source": [
    "#### Loss function:\n"
   ]
  },
  {
   "cell_type": "markdown",
   "id": "6017a313-2f74-49d9-a2fd-fb39189395b6",
   "metadata": {},
   "source": [
    "\n",
    "\n",
    "#### Optimization: \n",
    "#### Additional evaluation metrics?\n",
    "#### Accuracy:\n",
    "#### Results:\n",
    "#### Conclusions:"
   ]
  },
  {
   "cell_type": "code",
   "execution_count": null,
   "id": "b5dad92a-7240-4a2c-ba94-3d36816d4117",
   "metadata": {},
   "outputs": [],
   "source": []
  }
 ],
 "metadata": {
  "kernelspec": {
   "display_name": "Python 3 (ipykernel)",
   "language": "python",
   "name": "python3"
  },
  "language_info": {
   "codemirror_mode": {
    "name": "ipython",
    "version": 3
   },
   "file_extension": ".py",
   "mimetype": "text/x-python",
   "name": "python",
   "nbconvert_exporter": "python",
   "pygments_lexer": "ipython3",
   "version": "3.8.12"
  }
 },
 "nbformat": 4,
 "nbformat_minor": 5
}
